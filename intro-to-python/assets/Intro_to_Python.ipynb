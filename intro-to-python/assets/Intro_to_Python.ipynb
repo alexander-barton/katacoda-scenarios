{
 "cells": [
  {
   "cell_type": "markdown",
   "id": "015dc4d2-5422-4630-9c5a-3a3b9329a68c",
   "metadata": {},
   "source": [
    "# Intro to Python -- Part I\n",
    "-----\n",
    "This is an introduction to python 3.8.  This first part will introduce you to the basics of python.  \n",
    "\n",
    "By the end it is hoped that you will be able to:\n",
    "\n",
    "- declare variables\n",
    "- format strings\n",
    "- work with lists and dicts\n",
    "- write loops and conditionals\n",
    "- define functions\n",
    "- work with modules\n",
    "- work with NumPy, matplotlib, scikit-learn"
   ]
  },
  {
   "cell_type": "markdown",
   "id": "05126a8e",
   "metadata": {},
   "source": [
    "-----\n",
    "**Note on using Jupyter Notebooks:** Jupyter notebooks consist of cells that can be either markdown or executable python code.\n",
    "\n",
    "The markdown cells are ones like this, consisting of formatted text, whereas the code cells are seen below.  \n",
    "\n",
    "Code cells can be executed by hitting the **Run** button at the top of the notebook **OR** by hitting <kbd>Shift</kbd> + <kbd>Enter</kbd>."
   ]
  },
  {
   "cell_type": "markdown",
   "id": "c79e379d-b9db-4dec-8878-1065a1776cb7",
   "metadata": {},
   "source": [
    "## 1) Variables in Python"
   ]
  },
  {
   "cell_type": "markdown",
   "id": "dcbc5332",
   "metadata": {},
   "source": [
    "Python's datatype tree looks like this:\n",
    "- Numbers\n",
    "    - Int\n",
    "    - Float\n",
    "    - Complex\n",
    "- Dictionaries\n",
    "- Booleans\n",
    "- Sets\n",
    "- Sequence Types\n",
    "    - String\n",
    "    - List\n",
    "    - Tuple\n",
    "\n",
    "We will cover some of these in more detail."
   ]
  },
  {
   "cell_type": "markdown",
   "id": "b662f689",
   "metadata": {},
   "source": [
    "### Numbers"
   ]
  },
  {
   "cell_type": "markdown",
   "id": "75ac419f-dc53-4cf8-aae1-963551594a64",
   "metadata": {},
   "source": [
    "First we need to familiarize ourselves with the basic syntax of Python.  To assign a variable in Python we use the equals sign such as `x = 5`. Give it a try below"
   ]
  },
  {
   "cell_type": "code",
   "execution_count": null,
   "id": "079e72bd-036c-4a2e-840f-5272922c856a",
   "metadata": {},
   "outputs": [],
   "source": []
  },
  {
   "cell_type": "markdown",
   "id": "1ef63992-2c99-4d24-a476-03b3ce6591fd",
   "metadata": {},
   "source": [
    "Python is an implicitly typed language, so you needn't declare types when using variables.\n",
    "\n",
    "Below, try using various numerical types.  Use the command\n",
    "\n",
    "`type(x)`\n",
    "\n",
    "to see what kind numerical types exists. For example try:\n",
    "\n",
    "```\n",
    "x = 5.2\n",
    "x = 3/2\n",
    "x = -8\n",
    "x = 6.2 * 5\n",
    "x = 8//3\n",
    "```\n",
    "\n",
    "and for extra fun try \n",
    "\n",
    "`x = 2 + 3j`"
   ]
  },
  {
   "cell_type": "code",
   "execution_count": null,
   "id": "319e1844",
   "metadata": {},
   "outputs": [],
   "source": []
  },
  {
   "cell_type": "markdown",
   "id": "4adb25f6",
   "metadata": {},
   "source": [
    "The arithmetic operators in python are:\n",
    "\n",
    "```\n",
    "+\n",
    "-\n",
    "*\n",
    "/\n",
    "%\n",
    "**\n",
    "//\n",
    "```\n",
    "\n",
    "Some are probably obvious, but experiment with those you don't know to see if you can find out what they do."
   ]
  },
  {
   "cell_type": "code",
   "execution_count": null,
   "id": "af461c6f",
   "metadata": {},
   "outputs": [],
   "source": []
  },
  {
   "cell_type": "markdown",
   "id": "4b1fbe05",
   "metadata": {},
   "source": [
    "### Strings"
   ]
  },
  {
   "cell_type": "markdown",
   "id": "5c4fdc8c-886b-4f13-8c99-2122df413b3e",
   "metadata": {},
   "source": [
    "When declaring strings we can use single (') or double (\") quotes.  PEP guidelines don't care, as long as you are consistent.\n",
    "\n",
    "Try declaring a string below.\n",
    "\n",
    "```\n",
    "name = \"Alex S. Barton\"\n",
    "print(name)\n",
    "```"
   ]
  },
  {
   "cell_type": "markdown",
   "id": "bf929444",
   "metadata": {},
   "source": []
  },
  {
   "cell_type": "markdown",
   "id": "45503cf5-78b3-416e-b063-51bf20fa367c",
   "metadata": {},
   "source": [
    "As you recall from above, strings in python are sequence data types.  This means that, essentially, all python strings are arrays of chars.\n",
    "\n",
    "Because of this we can index into individual letters and perform splicing as we would for any sequence (more on that below).  This means that\n",
    "\n",
    "`print(name[0])`\n",
    "\n",
    "should output\n",
    "\n",
    "`A` \n",
    "\n",
    "*or whatever you chose for your string.\n",
    "\n",
    "OR we could ouput only the front end\n",
    "\n",
    "`print(name[:4])`\n"
   ]
  },
  {
   "cell_type": "code",
   "execution_count": null,
   "id": "f8aee740",
   "metadata": {},
   "outputs": [],
   "source": []
  },
  {
   "cell_type": "markdown",
   "id": "afc6c999-f4a5-4b32-8f62-6a7108e6c4e4",
   "metadata": {},
   "source": [
    "Here we discuss string combinations using `+` and `*`\n",
    "Additionally, maybe discuss str + str(int)?"
   ]
  },
  {
   "cell_type": "code",
   "execution_count": null,
   "id": "9b46252e",
   "metadata": {},
   "outputs": [],
   "source": []
  },
  {
   "cell_type": "markdown",
   "id": "29910bfe",
   "metadata": {},
   "source": [
    "Finally, discuss f-strings."
   ]
  },
  {
   "cell_type": "code",
   "execution_count": null,
   "id": "47be7ba3",
   "metadata": {},
   "outputs": [],
   "source": []
  },
  {
   "cell_type": "markdown",
   "id": "9d21dd29",
   "metadata": {},
   "source": [
    "### Lists"
   ]
  },
  {
   "cell_type": "markdown",
   "id": "a059318a-757e-4ff8-8ca6-53b35d68d307",
   "metadata": {},
   "source": [
    "Moving on to more interesting structures.  One of the most flexible python structures is the list.  It is the dynamic array of python blah blah blah"
   ]
  },
  {
   "cell_type": "code",
   "execution_count": null,
   "id": "318547aa",
   "metadata": {},
   "outputs": [],
   "source": []
  },
  {
   "cell_type": "markdown",
   "id": "5b12de56-ae51-47da-a6d8-759e68606a13",
   "metadata": {},
   "source": [
    "Discuss all the methods for lists\n",
    "\n",
    "[More information on methods for lists](https://www.w3schools.com/python/python_ref_list.asp)"
   ]
  },
  {
   "cell_type": "code",
   "execution_count": null,
   "id": "18124743",
   "metadata": {},
   "outputs": [],
   "source": []
  },
  {
   "cell_type": "markdown",
   "id": "57e5ad14-5ce7-451e-89a6-7bd52caa5558",
   "metadata": {},
   "source": [
    "Briefly mention tuples."
   ]
  },
  {
   "cell_type": "markdown",
   "id": "ec5aad8b",
   "metadata": {},
   "source": [
    "### Dictionaries"
   ]
  },
  {
   "cell_type": "markdown",
   "id": "0880d893-07d1-4ec8-8f77-517e31f1382f",
   "metadata": {},
   "source": [
    "The dictionary is another excellent object.\n",
    "\n",
    "It is like a list, but index with keys."
   ]
  },
  {
   "cell_type": "code",
   "execution_count": null,
   "id": "5fa75228",
   "metadata": {},
   "outputs": [],
   "source": []
  },
  {
   "cell_type": "markdown",
   "id": "de06af5f",
   "metadata": {},
   "source": [
    "You can also get the keys or values as lists using these methods."
   ]
  },
  {
   "cell_type": "code",
   "execution_count": null,
   "id": "3bb96daf",
   "metadata": {},
   "outputs": [],
   "source": []
  },
  {
   "cell_type": "markdown",
   "id": "42da72d7",
   "metadata": {},
   "source": [
    "Finally mention how useful they are?"
   ]
  },
  {
   "cell_type": "markdown",
   "id": "89047ee9",
   "metadata": {},
   "source": [
    "## 2) Loops & Conditionals"
   ]
  },
  {
   "cell_type": "markdown",
   "id": "8c0721ad",
   "metadata": {},
   "source": [
    "### Conditionals"
   ]
  },
  {
   "cell_type": "code",
   "execution_count": null,
   "id": "f3d0fdae",
   "metadata": {},
   "outputs": [],
   "source": []
  },
  {
   "cell_type": "markdown",
   "id": "7c9f775f-2fbf-4e5f-9602-5f6eeb4131a7",
   "metadata": {},
   "source": [
    "Conditionals are the key to controlling your program flow.\n",
    "\n",
    "Mention booleans.  Here `True` and `False`\n",
    "\n",
    "In python we use the statments `if...`, `elif...`, and `else` to control flow in combination with logical operators.\n",
    "\n",
    "Here are the list of usual suspects:\n",
    "\n",
    "- `x == y`\n",
    "- `x != y`\n",
    "- `x < y`\n",
    "- `x > y`\n",
    "- `x <= y`\n",
    "- `x >= y`\n",
    "\n",
    "In addition, we have reservered words for certain binary operators:\n",
    "\n",
    "- `and`\n",
    "- `or`\n",
    "- `not`\n"
   ]
  },
  {
   "cell_type": "markdown",
   "id": "d5a648b9",
   "metadata": {},
   "source": [
    "-----\n",
    "Talk about indentation and `:`\n",
    "\n",
    "*e.g.*\n",
    "\n",
    "```\n",
    "if True:\n",
    "    print(\"1\")\n",
    "else:\n",
    "    print(\"0\")\n",
    "```"
   ]
  },
  {
   "cell_type": "code",
   "execution_count": null,
   "id": "882bf649",
   "metadata": {},
   "outputs": [],
   "source": []
  },
  {
   "cell_type": "markdown",
   "id": "a407adae",
   "metadata": {},
   "source": [
    "### Loops"
   ]
  },
  {
   "cell_type": "markdown",
   "id": "a8d90337",
   "metadata": {},
   "source": [
    "Want to mention the difference between iterators, iterables, and generators."
   ]
  },
  {
   "cell_type": "markdown",
   "id": "9603427c",
   "metadata": {},
   "source": [
    "Basic loop:\n",
    "\n",
    "``` \n",
    "for x in range(10):\n",
    "    print(x)\n",
    "```"
   ]
  },
  {
   "cell_type": "markdown",
   "id": "0efac72b",
   "metadata": {},
   "source": [
    "Now let's try looping over one the iterables we made earlier (either the string, or values in the list, or the dict keys)\n",
    "\n",
    "```\n",
    "for key in dict.keys():\n",
    "    print(key)\n",
    "```"
   ]
  },
  {
   "cell_type": "markdown",
   "id": "b8196512",
   "metadata": {},
   "source": [
    "Mention while loops,\n",
    "pass, continue, break\n",
    "\n",
    "AND for loops ending with else\n",
    "\n",
    "[More control flow info.](https://docs.python.org/3/tutorial/controlflow.html)\n"
   ]
  },
  {
   "cell_type": "markdown",
   "id": "de749945-e553-4af7-8c45-36e71f5b39c2",
   "metadata": {},
   "source": [
    "Here I will talk about enumerate, zip, iterators\n",
    "\n",
    "```\n",
    "names = ['John', 'Jacob', 'Jingleheimer', 'Schmidt']\n",
    "\n",
    "for n, name in enumerate(names):\n",
    "    print(f\"Name #{n+1} is {name}\")\n",
    "```"
   ]
  },
  {
   "cell_type": "code",
   "execution_count": null,
   "id": "272e2c18",
   "metadata": {},
   "outputs": [],
   "source": []
  },
  {
   "cell_type": "markdown",
   "id": "c2c831f4",
   "metadata": {},
   "source": [
    "Also try zip functions (if you have 2 iterables)\n",
    "\n",
    "**WARNING!!! THIS WILL ONLY WORK IF THEY ARE OF THE SAME LENGTH!**\n",
    "\n",
    "```\n",
    "first_names = ['Randy', 'Shawn', 'The']\n",
    "last_names = ['Savage', 'Michaels', 'Undertaker']\n",
    "\n",
    "for name, surname in zip(first_names, last_names):\n",
    "    print(f\"{name} {surname} is in the house!\")\n",
    "```"
   ]
  },
  {
   "cell_type": "markdown",
   "id": "00d913ac-96e0-4ac5-9ba5-c26baf51e179",
   "metadata": {},
   "source": [
    "### Try blocks"
   ]
  },
  {
   "cell_type": "markdown",
   "id": "3dd0c52b",
   "metadata": {},
   "source": [
    "Discuss try, except blocks\n",
    "\n",
    "```\n",
    "try:\n",
    "    server.connect()\n",
    "except:\n",
    "    print(\"Failed connecting.\")\n",
    "```"
   ]
  },
  {
   "cell_type": "code",
   "execution_count": null,
   "id": "027b07a1",
   "metadata": {},
   "outputs": [],
   "source": []
  },
  {
   "cell_type": "markdown",
   "id": "a28f8a20",
   "metadata": {},
   "source": [
    "## 3) Functions"
   ]
  },
  {
   "cell_type": "markdown",
   "id": "8103ceab",
   "metadata": {},
   "source": [
    "### Basic Syntax"
   ]
  },
  {
   "cell_type": "markdown",
   "id": "1faad4c2",
   "metadata": {},
   "source": [
    "Return statements, scope"
   ]
  },
  {
   "cell_type": "code",
   "execution_count": null,
   "id": "eabeeff0",
   "metadata": {},
   "outputs": [],
   "source": []
  },
  {
   "cell_type": "markdown",
   "id": "04b362cb",
   "metadata": {},
   "source": [
    "### Arguments"
   ]
  },
  {
   "cell_type": "markdown",
   "id": "d4dc868a",
   "metadata": {},
   "source": [
    "There are two ways to pass arguments to functions: as positional arguments or keyword arguments.\n",
    "\n",
    "```\n",
    "import math\n",
    "\n",
    "def exponent(N, base=math.e):\n",
    "\n",
    "    return base**N\n",
    "```\n",
    "\n"
   ]
  },
  {
   "cell_type": "code",
   "execution_count": null,
   "id": "cf0d9c8b",
   "metadata": {},
   "outputs": [],
   "source": []
  },
  {
   "cell_type": "markdown",
   "id": "b797ac05",
   "metadata": {},
   "source": [
    "## 4) Modules/Packages"
   ]
  },
  {
   "cell_type": "markdown",
   "id": "63cdc8f5-047c-47bf-8e07-7cc8aff0c08e",
   "metadata": {},
   "source": [
    "The `import` command is how one gets packages and modules into the Python environment.\n",
    "\n",
    "You may have seen it in some examples above."
   ]
  },
  {
   "cell_type": "markdown",
   "id": "f31c2792",
   "metadata": {},
   "source": [
    "### os"
   ]
  },
  {
   "cell_type": "markdown",
   "id": "0027b9b8-6006-4322-9b6d-5b8c83798acb",
   "metadata": {},
   "source": [
    "Of built-ins, the os module is perhaps one of the most import. We use\n",
    "\n",
    "`import os`\n",
    "\n",
    "to gain access to it.  It allows use to navigate file systems, complete file paths, &c.  without regard to what filesystem we are on.\n",
    "\n",
    "`Example`"
   ]
  },
  {
   "cell_type": "code",
   "execution_count": null,
   "id": "f06248ea",
   "metadata": {},
   "outputs": [],
   "source": []
  },
  {
   "cell_type": "markdown",
   "id": "4831d813",
   "metadata": {},
   "source": [
    "[Give the rest of the standard library](https://docs.python.org/3/library/)"
   ]
  },
  {
   "cell_type": "markdown",
   "id": "9304bd74",
   "metadata": {},
   "source": [
    "### NumPy"
   ]
  },
  {
   "cell_type": "markdown",
   "id": "fdf00ad6-805a-4cbc-b984-85211d9ccfe9",
   "metadata": {},
   "source": [
    "NumPy is your friend.  If you are coming from Matlab it is the inspiration.  Written in pure C, allocates arrays to blocks of mem, very fast. Convention is `import numpy as np`"
   ]
  },
  {
   "cell_type": "markdown",
   "id": "38f1dee7-b444-473c-97a6-d7fb725f0883",
   "metadata": {},
   "source": [
    "NumPy serves as the backbone for many of the scientific computing libraries, including matplotlib (graphing) scipy (stats, systems of equations, &c.) and (what?)\n",
    "\n",
    "The workhorse in the ndarray data type.  All numpy arrays are of this time.  For example, to make an array of random data:\n",
    "\n",
    "```\n",
    "import numpy as np\n",
    "\n",
    "A = np.random.normal(0,1,100)\n",
    "print(A.shape)\n",
    "```"
   ]
  },
  {
   "cell_type": "markdown",
   "id": "e9b3e34e",
   "metadata": {},
   "source": [
    "**NEED TO DISCUSS np.where()**!!!!\n",
    "\n",
    "[This page will be your friend](https://numpy.org/doc/stable/reference/generated/numpy.ndarray.T.html)\n",
    "\n",
    "Specifically talk about the array.shape, array.ndim, array.dtype, array.reshape(), array.mean(), &c.\n",
    "\n",
    "np.ravel(), np.roll(), np.where() and np.tolist(), \n",
    "\n",
    "np.arange(), np.linspace()\n",
    "np.random..."
   ]
  },
  {
   "cell_type": "code",
   "execution_count": null,
   "id": "88c263de",
   "metadata": {},
   "outputs": [],
   "source": []
  },
  {
   "cell_type": "markdown",
   "id": "d49f8eab",
   "metadata": {},
   "source": [
    "More examples."
   ]
  },
  {
   "cell_type": "code",
   "execution_count": null,
   "id": "f0e75c56",
   "metadata": {},
   "outputs": [],
   "source": []
  },
  {
   "cell_type": "markdown",
   "id": "665901f6",
   "metadata": {},
   "source": [
    "### matplotlib"
   ]
  },
  {
   "cell_type": "markdown",
   "id": "bddb87a3",
   "metadata": {},
   "source": [
    "Matplotlib is your friend, and works very well with numpy.  The convention is\n",
    "\n",
    "`import matplotlib.pyplot as plt`\n",
    "\n",
    "Here is an example of ploting some data you made up.\n",
    "\n",
    "```\n",
    "import numpy as np\n",
    "import matplotlib.pyplot as plt\n",
    "\n",
    "x = np.linspace(0, 4*np.pi, 100)\n",
    "y = np.cos(1.7x + np.pi/2)\n",
    "\n",
    "plt.plot(x, y, 'k--', linewidth=2.4)\n",
    "\n",
    "plt.title(\"My first graph!\")\n",
    "plt.xlabel(\"X's\")\n",
    "plt.ylabel(\"$cos(1.7x + \\frac{\\pi}{2})$\")\n",
    "plt.show()\n",
    "```"
   ]
  },
  {
   "cell_type": "code",
   "execution_count": null,
   "id": "21f4637d",
   "metadata": {},
   "outputs": [],
   "source": []
  },
  {
   "cell_type": "markdown",
   "id": "4580e7f4",
   "metadata": {},
   "source": [
    "Can also do histograms and scatterplots\n",
    "AND do subgraphs."
   ]
  },
  {
   "cell_type": "code",
   "execution_count": null,
   "id": "6763f248",
   "metadata": {},
   "outputs": [],
   "source": []
  },
  {
   "cell_type": "markdown",
   "id": "06bdb875",
   "metadata": {},
   "source": [
    "Also, mention `fig = plt.figure()`\n",
    "\n",
    "[Matplotlib documentation](https://matplotlib.org/)\n"
   ]
  },
  {
   "cell_type": "markdown",
   "id": "bb22e28c",
   "metadata": {},
   "source": [
    "### scikit-learn"
   ]
  },
  {
   "cell_type": "markdown",
   "id": "a7345e14",
   "metadata": {},
   "source": [
    "Mention scipy, scipy.stats, scipy.linalg, &c.\n",
    "\n",
    "sklearn is the Machine learning portion of that.\n",
    "\n",
    "`import sklearn`\n",
    "\n",
    "Though often we import the sub-libraries"
   ]
  },
  {
   "cell_type": "markdown",
   "id": "da3d2339",
   "metadata": {},
   "source": [
    "Example of using a minmax scaler"
   ]
  },
  {
   "cell_type": "code",
   "execution_count": null,
   "id": "e776f211",
   "metadata": {},
   "outputs": [],
   "source": []
  },
  {
   "cell_type": "markdown",
   "id": "02a1e2be",
   "metadata": {},
   "source": [
    "Example of using SGDRegressor"
   ]
  },
  {
   "cell_type": "code",
   "execution_count": null,
   "id": "494a8745",
   "metadata": {},
   "outputs": [],
   "source": []
  },
  {
   "cell_type": "markdown",
   "id": "accfde30",
   "metadata": {},
   "source": [
    "And another regressor"
   ]
  },
  {
   "cell_type": "code",
   "execution_count": null,
   "id": "6c31d019",
   "metadata": {},
   "outputs": [],
   "source": []
  },
  {
   "cell_type": "markdown",
   "id": "38ac5f0f",
   "metadata": {},
   "source": [
    "Please ignore the poor validation, &c.  This is for learning"
   ]
  },
  {
   "cell_type": "markdown",
   "id": "8534f48e",
   "metadata": {},
   "source": []
  }
 ],
 "metadata": {
  "interpreter": {
   "hash": "916dbcbb3f70747c44a77c7bcd40155683ae19c65e1c03b4aa3499c5328201f1"
  },
  "kernelspec": {
   "display_name": "Python 3.8",
   "language": "python",
   "name": "python3"
  },
  "language_info": {
   "codemirror_mode": {
    "name": "ipython",
    "version": 3
   },
   "file_extension": ".py",
   "mimetype": "text/x-python",
   "name": "python",
   "nbconvert_exporter": "python",
   "pygments_lexer": "ipython3",
   "version": "3.8.10"
  }
 },
 "nbformat": 4,
 "nbformat_minor": 5
}
