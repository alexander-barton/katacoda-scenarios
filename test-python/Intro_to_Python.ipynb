{
 "cells": [
  {
   "cell_type": "markdown",
   "id": "015dc4d2-5422-4630-9c5a-3a3b9329a68c",
   "metadata": {},
   "source": [
    "# Intro to Python"
   ]
  },
  {
   "cell_type": "markdown",
   "id": "10aa3fb9-3101-48ab-b850-39262639caed",
   "metadata": {},
   "source": [
    "-----"
   ]
  },
  {
   "cell_type": "markdown",
   "id": "940aa2d3-272a-4b55-ae12-50ddcc16854f",
   "metadata": {},
   "source": [
    "This is an introduction to Python using 3.6.  This is the \"streamlined\" version of the tutorial, ignoring virtual environments"
   ]
  },
  {
   "cell_type": "markdown",
   "id": "c79e379d-b9db-4dec-8878-1065a1776cb7",
   "metadata": {},
   "source": [
    "#### Section 1: Variables, lists, dicts, &c."
   ]
  },
  {
   "cell_type": "markdown",
   "id": "75ac419f-dc53-4cf8-aae1-963551594a64",
   "metadata": {},
   "source": [
    "First we need to familiarize ourselves with the basic syntax of Python.  To assign a variable in Python we use the equals sign such as `x = 5`. Give it a try below"
   ]
  },
  {
   "cell_type": "code",
   "execution_count": 2,
   "id": "079e72bd-036c-4a2e-840f-5272922c856a",
   "metadata": {},
   "outputs": [],
   "source": [
    "x = 5"
   ]
  },
  {
   "cell_type": "markdown",
   "id": "1ef63992-2c99-4d24-a476-03b3ce6591fd",
   "metadata": {},
   "source": [
    "This assigns the value '5' to the variable named x.  #Something about type of x"
   ]
  },
  {
   "cell_type": "code",
   "execution_count": 5,
   "id": "b30e5d3b-b471-4b58-9ce3-e7725e46b40a",
   "metadata": {},
   "outputs": [
    {
     "name": "stdout",
     "output_type": "stream",
     "text": [
      "<class 'int'>\n"
     ]
    }
   ],
   "source": [
    "print(type(x))"
   ]
  },
  {
   "cell_type": "code",
   "execution_count": 7,
   "id": "c19de641-28ae-4adc-b160-156836693989",
   "metadata": {},
   "outputs": [
    {
     "name": "stdout",
     "output_type": "stream",
     "text": [
      "<class 'float'>\n"
     ]
    }
   ],
   "source": [
    "x = 5.\n",
    "print(type(x))"
   ]
  },
  {
   "cell_type": "markdown",
   "id": "b9eb8b14-dc46-4a0d-af46-e7cc9999c1cb",
   "metadata": {},
   "source": [
    "Also mention complex numbers?"
   ]
  },
  {
   "cell_type": "markdown",
   "id": "5c4fdc8c-886b-4f13-8c99-2122df413b3e",
   "metadata": {},
   "source": [
    "When declaring strings we can use single (') or double (\") quotes.  PEP guidelines don't care, as long as you are consistent."
   ]
  },
  {
   "cell_type": "code",
   "execution_count": 9,
   "id": "0dfc5300-4b0c-4abd-8285-fa6f452f1eb1",
   "metadata": {},
   "outputs": [
    {
     "name": "stdout",
     "output_type": "stream",
     "text": [
      "Alex B. Arton\n"
     ]
    }
   ],
   "source": [
    "name = \"Alex B. Arton\"\n",
    "print(name)"
   ]
  },
  {
   "cell_type": "markdown",
   "id": "45503cf5-78b3-416e-b063-51bf20fa367c",
   "metadata": {},
   "source": [
    "In Python, strings can be concatenated in many ways.  Perhaps the simplest way is to use the `+` operator. Try guessing what the statment `print(name + \"is a poor instructor :(\")` will do"
   ]
  },
  {
   "cell_type": "code",
   "execution_count": 10,
   "id": "306dffa0-64fa-4619-90a7-bd10f247336e",
   "metadata": {},
   "outputs": [
    {
     "name": "stdout",
     "output_type": "stream",
     "text": [
      "Alex B. Artonis a poor instructor :(\n"
     ]
    }
   ],
   "source": [
    "print(name + \"is a poor instructor :(\")"
   ]
  },
  {
   "cell_type": "markdown",
   "id": "afc6c999-f4a5-4b32-8f62-6a7108e6c4e4",
   "metadata": {},
   "source": [
    "Notice how the lack of a space ruins everything.\n",
    "\n",
    "One of the best features in python (since 3.x?) is the f-string.  This combines features from fprint with nice, legible code.  To make an f-string one simply prepends an f ahead of the quotes.  Curly brackets are used to hold variables.  For example:\n",
    "\n",
    "```\n",
    "fun_sentence = f\"My name is {name} and I drop my jupyter kernals {18/21:.2%} of the tim!e\"\n",
    "print(fun_sentence)\n",
    "```"
   ]
  },
  {
   "cell_type": "code",
   "execution_count": 15,
   "id": "77ef51d3-7468-44ca-b7b9-0cf7f5e2a1f9",
   "metadata": {},
   "outputs": [
    {
     "name": "stdout",
     "output_type": "stream",
     "text": [
      "My name is Alex B. Arton and I drop my jupyter kernals 85.71% of the time!\n"
     ]
    }
   ],
   "source": [
    "fun_sentence = f\"My name is {name} and I drop my jupyter kernals {18/21:.2%} of the time!\"\n",
    "print(fun_sentence)"
   ]
  },
  {
   "cell_type": "markdown",
   "id": "a059318a-757e-4ff8-8ca6-53b35d68d307",
   "metadata": {},
   "source": [
    "Moving on to more interesting structures.  One of the most flexible python structures is the list.  It is the dynamic array of python blah blah blah"
   ]
  },
  {
   "cell_type": "code",
   "execution_count": 18,
   "id": "33089fd4-fbc4-45da-932d-9e734a93565c",
   "metadata": {},
   "outputs": [
    {
     "name": "stdout",
     "output_type": "stream",
     "text": [
      "['Wild Strawberries', 'Persona', 'Fanny och Alexander']\n",
      "['Wild Strawberries', 'Persona', 'Fanny och Alexander', 'Smiles of a Summer Night']\n",
      "['Smiles of a Summer Night', 'Fanny och Alexander', 'Persona', 'Wild Strawberries']\n",
      "['Fanny och Alexander', 'Persona', 'Smiles of a Summer Night', 'Wild Strawberries']\n"
     ]
    }
   ],
   "source": [
    "bergman = ['Wild Strawberries', 'Persona', 'Fanny och Alexander']\n",
    "print(bergman)\n",
    "bergman.append('Smiles of a Summer Night')\n",
    "print(bergman)\n",
    "bergman.reverse()\n",
    "print(bergman)\n",
    "bergman.sort()\n",
    "print(bergman)"
   ]
  },
  {
   "cell_type": "markdown",
   "id": "5b12de56-ae51-47da-a6d8-759e68606a13",
   "metadata": {},
   "source": [
    "[More information on methods for lists](https://www.w3schools.com/python/python_ref_list.asp)"
   ]
  },
  {
   "cell_type": "markdown",
   "id": "57e5ad14-5ce7-451e-89a6-7bd52caa5558",
   "metadata": {},
   "source": [
    "?Talk about tuples?  Mention, but gloss over, maybe"
   ]
  },
  {
   "cell_type": "markdown",
   "id": "0880d893-07d1-4ec8-8f77-517e31f1382f",
   "metadata": {},
   "source": [
    "The dictionary is another excellent object"
   ]
  },
  {
   "cell_type": "code",
   "execution_count": 20,
   "id": "5a8e4b9b-0dda-4f8b-b3ed-9346179b173b",
   "metadata": {},
   "outputs": [
    {
     "name": "stdout",
     "output_type": "stream",
     "text": [
      "['Beau travail', 'Trouble Every Day', 'White Material']\n"
     ]
    }
   ],
   "source": [
    "denis = ['Beau travail', 'Trouble Every Day', 'White Material']\n",
    "sembene = ['Xala', 'Moolaadé', 'Mandabi']\n",
    "films = {'Bergman': bergman, 'Denis': denis, 'Sembenè': sembene}\n",
    "print(films['Denis'])"
   ]
  },
  {
   "cell_type": "markdown",
   "id": "30a3c309-250b-4c12-a247-25656b421438",
   "metadata": {},
   "source": [
    "#### Loops, conditionals, &c."
   ]
  },
  {
   "cell_type": "markdown",
   "id": "7c9f775f-2fbf-4e5f-9602-5f6eeb4131a7",
   "metadata": {},
   "source": [
    "We'll loop over the dict we just made\n",
    "\n",
    "Here we are introducing several of the features in python"
   ]
  },
  {
   "cell_type": "code",
   "execution_count": 28,
   "id": "fa72889b-60ed-4dfb-b72d-b291004be226",
   "metadata": {},
   "outputs": [
    {
     "name": "stdout",
     "output_type": "stream",
     "text": [
      "Bergman directed these films: ['Fanny och Alexander', 'Persona', 'Smiles of a Summer Night', 'Wild Strawberries']\n",
      "~~~~~~~~~~~~~~~~~~~~~~~~~~~~~~~~~~~~~~~~~~~~~~~~~~~~~~~~~~~~~~~~~~~~~~~~~~~~~~~~~~~~~~~~~~~~~~~~~~~~~~~~~~~~~~~~~~~~~\n",
      "Denis directed these films: ['Beau travail', 'Trouble Every Day', 'White Material']\n",
      "~~~~~~~~~~~~~~~~~~~~~~~~~~~~~~~~~~~~~~~~~~~~~~~~~~~~~~~~~~~~~~~~~~~~~~~~~~~~~~~~~~~~~~~~~~~~~~~~~~~~~~~~~~~~~~~~~~~~~\n",
      "Sembenè directed these films: ['Xala', 'Moolaadé', 'Mandabi']\n",
      "~~~~~~~~~~~~~~~~~~~~~~~~~~~~~~~~~~~~~~~~~~~~~~~~~~~~~~~~~~~~~~~~~~~~~~~~~~~~~~~~~~~~~~~~~~~~~~~~~~~~~~~~~~~~~~~~~~~~~\n"
     ]
    }
   ],
   "source": [
    "for director in films.keys():\n",
    "    msg = f\"{director} directed these films: {films[director]}\"\n",
    "    print(msg)\n",
    "    print(\"~~~\"*39)"
   ]
  },
  {
   "cell_type": "markdown",
   "id": "8c87de5c-a82e-4fd7-8276-e204cb1c654e",
   "metadata": {},
   "source": [
    "Importance of indentation"
   ]
  },
  {
   "cell_type": "code",
   "execution_count": 32,
   "id": "b3579562-77f9-4dd6-80c2-18a1bfbe5711",
   "metadata": {},
   "outputs": [
    {
     "name": "stdout",
     "output_type": "stream",
     "text": [
      "Beau travail\n",
      "Trouble Every Day\n",
      "White Material\n"
     ]
    }
   ],
   "source": [
    "for film in denis:\n",
    "    print(film)"
   ]
  },
  {
   "cell_type": "markdown",
   "id": "de749945-e553-4af7-8c45-36e71f5b39c2",
   "metadata": {},
   "source": [
    "Here I will talk about enumerate, zip, iterators"
   ]
  },
  {
   "cell_type": "code",
   "execution_count": 37,
   "id": "c1ec24aa-1e73-4911-9d00-86878c25c8a6",
   "metadata": {},
   "outputs": [
    {
     "name": "stdout",
     "output_type": "stream",
     "text": [
      "Bergman's 1 film is Fanny och Alexander\n",
      "Bergman's 2 film is Persona\n",
      "Bergman's 3 film is Smiles of a Summer Night\n",
      "Bergman's 4 film is Wild Strawberries\n"
     ]
    }
   ],
   "source": [
    "for n, film in enumerate(bergman):\n",
    "    print(f\"Ingmar's {n+1} film is {film}\")"
   ]
  },
  {
   "cell_type": "code",
   "execution_count": 39,
   "id": "58a7463c-28d8-493e-a8de-c02b79af2a51",
   "metadata": {},
   "outputs": [
    {
     "name": "stdout",
     "output_type": "stream",
     "text": [
      "While Claire filmed Beau travail, Ousame filmed Xala!\n",
      "While Claire filmed Trouble Every Day, Ousame filmed Moolaadé!\n",
      "While Claire filmed White Material, Ousame filmed Mandabi!\n"
     ]
    }
   ],
   "source": [
    "for film_d, film_s in zip(denis, sembene):\n",
    "    print(f\"While Claire filmed {film_d}, Ousame filmed {film_s}!\")"
   ]
  },
  {
   "cell_type": "markdown",
   "id": "af689a2e-08af-4984-88af-089062dea051",
   "metadata": {},
   "source": [
    "Here talk about conditionals"
   ]
  },
  {
   "cell_type": "markdown",
   "id": "00d913ac-96e0-4ac5-9ba5-c26baf51e179",
   "metadata": {},
   "source": [
    "Also talk about try statements"
   ]
  },
  {
   "cell_type": "markdown",
   "id": "9e79941a-62e3-4454-8ca7-853c99a6911e",
   "metadata": {},
   "source": [
    "#### Modules and Packages"
   ]
  },
  {
   "cell_type": "markdown",
   "id": "63cdc8f5-047c-47bf-8e07-7cc8aff0c08e",
   "metadata": {},
   "source": [
    "The `import` command how one gets packages and modules into the Python environment.\n",
    "\n",
    "*NOTE*: technically, all packages are modules (internally the same object type).  But in standard nonmenclature, a module is one python file (or built-ins) whereas a package is a series of files."
   ]
  },
  {
   "cell_type": "code",
   "execution_count": 46,
   "id": "1d700b4c-3e18-4f7b-b659-a35f86cfa9d0",
   "metadata": {},
   "outputs": [],
   "source": [
    "import os\n",
    "import re\n",
    "import sys\n",
    "import itertools\n",
    "\n",
    "import numpy as np\n",
    "import matplotlib.pyplot as plt\n",
    "import scipy"
   ]
  },
  {
   "cell_type": "markdown",
   "id": "0027b9b8-6006-4322-9b6d-5b8c83798acb",
   "metadata": {},
   "source": [
    "OS and argparse seem like the most important to address at this time.  Maybe sys"
   ]
  },
  {
   "cell_type": "code",
   "execution_count": 44,
   "id": "1fea8656-a63c-4002-9892-764841bdfcb0",
   "metadata": {},
   "outputs": [
    {
     "name": "stdout",
     "output_type": "stream",
     "text": [
      "/external/rprshnas01/kcni/abarton\n",
      "/external/rprshnas01/kcni/abarton/pbsweb\n",
      "/external/rprshnas01/kcni/abarton/intro-to-python\n",
      "/external/rprshnas01/kcni/abarton/perl5\n",
      "/external/rprshnas01/kcni/abarton/xnat2bids_test\n",
      "/external/rprshnas01/kcni/abarton/xnat2bids_test/code\n",
      "/external/rprshnas01/kcni/abarton/xnat2bids_test/envs\n",
      "/external/rprshnas01/kcni/abarton/xnat2bids_test/envs/bids\n",
      "/external/rprshnas01/kcni/abarton/xnat2bids_test/envs/bids/lib\n",
      "/external/rprshnas01/kcni/abarton/xnat2bids_test/envs/bids/include\n",
      "/external/rprshnas01/kcni/abarton/xnat2bids_test/envs/bids/bin\n",
      "/external/rprshnas01/kcni/abarton/xnat2bids_test/config\n",
      "/external/rprshnas01/kcni/abarton/xnat2bids_test/data\n",
      "/external/rprshnas01/kcni/abarton/xnat2bids_test/data/TED01\n",
      "/external/rprshnas01/kcni/abarton/xnat2bids_test/data/TED01/logs\n",
      "/external/rprshnas01/kcni/abarton/xnat2bids_test/data/TED01/data\n",
      "/external/rprshnas01/kcni/abarton/xnat2bids_test/data/TED01/data/zips\n",
      "/external/rprshnas01/kcni/abarton/xnat2bids_test/data/TED01/data/bids\n",
      "/external/rprshnas01/kcni/abarton/xnat2bids_test/data/TED01/data/dcm\n",
      "/external/rprshnas01/kcni/abarton/xnat2bids_test/data/TED01/metadata\n",
      "/external/rprshnas01/kcni/abarton/xnat_plugins\n"
     ]
    }
   ],
   "source": []
  },
  {
   "cell_type": "markdown",
   "id": "fdf00ad6-805a-4cbc-b984-85211d9ccfe9",
   "metadata": {},
   "source": [
    "NumPy is your friend.  If you are coming from Matlab it is the inspiration.  Written in pure C, allocates arrays to blocks of mem, very fast. Convention is `import numpy as np`"
   ]
  },
  {
   "cell_type": "markdown",
   "id": "38f1dee7-b444-473c-97a6-d7fb725f0883",
   "metadata": {},
   "source": [
    "NumPy serves as the backbone for many of the scientific computing libraries, including matplotlib (graphing) scipy (stats, systems of equations, &c.) and (what?)\n",
    "\n",
    "The workhorse in the ndarray data type.  All numpy arrays are of this time.  For example, to make an array of random data:"
   ]
  },
  {
   "cell_type": "code",
   "execution_count": 54,
   "id": "9e94b736-99d0-4d38-a2c0-d6f4fb00247c",
   "metadata": {},
   "outputs": [
    {
     "data": {
      "text/plain": [
       "array([-0.33075755, -0.4779242 ,  0.37714896,  0.45845813, -0.51449548,\n",
       "        1.43859903, -1.2281406 ,  0.46922222, -2.31470116, -0.22556899,\n",
       "        0.12964602, -0.17183919,  0.70374507, -1.04267361, -0.40037432,\n",
       "       -0.20888444,  0.51744981, -1.59352565, -0.11632633, -0.18683347,\n",
       "       -0.57066361,  0.07897434, -0.80855775,  0.98396572,  0.66961839,\n",
       "       -0.29453443, -1.40219514, -0.29259083, -0.86651086,  0.46293075,\n",
       "       -0.63485798, -0.15953596, -0.5341188 , -0.95190101, -0.08711963,\n",
       "        0.24142789, -0.99298421, -0.09644656, -0.15473874,  0.00819232,\n",
       "        0.38295843, -0.172243  , -0.90420653, -0.85343846, -0.45412746,\n",
       "        0.8143886 , -0.55451094,  0.23949587,  1.02304877, -0.37422575,\n",
       "       -0.22514752, -0.5479967 ,  0.12817754,  1.77595549, -0.22168573,\n",
       "       -0.39437739,  1.65512167,  0.35469025, -1.64252636, -0.83369713,\n",
       "        0.94530835,  0.38937581, -0.34428523, -1.76612751,  0.33445718,\n",
       "        0.01660268, -0.5054711 , -1.00355842, -0.12968312,  0.951585  ,\n",
       "       -0.33207968,  0.29500842, -1.56221578,  1.09796216, -1.1837138 ,\n",
       "       -0.17409451,  0.52407388,  1.68053535,  0.52169481, -0.8046759 ,\n",
       "       -0.08680657,  0.08327656, -0.49225415,  0.42251298,  0.28166981,\n",
       "        0.53892435, -0.64563298, -0.03708793, -0.48526522, -0.18465336,\n",
       "       -0.73779129,  0.08560876,  0.42831021, -0.52170246, -0.38763144,\n",
       "       -0.47917155,  0.52032449, -0.12027494,  0.19882415, -0.27267277,\n",
       "        0.91310279,  0.88143983,  0.78153414, -0.76347057,  0.44865369,\n",
       "       -0.33852661, -0.8754039 , -1.09643989,  0.81352407,  0.82329754,\n",
       "        0.04732886,  0.95542241, -0.60790548, -0.79387403,  0.65712412,\n",
       "       -1.02496994, -1.4504583 , -0.14018464, -0.30912864,  2.08957912,\n",
       "        0.29222366,  0.19511906,  0.0298802 ,  0.40331933,  0.71352336,\n",
       "        0.1908729 , -1.13945529,  0.34731481,  0.82823929, -1.32667394,\n",
       "       -0.51945608, -0.87700217, -0.97166063, -1.7179262 , -0.93327215,\n",
       "       -1.2342968 , -0.80943207,  1.26238502, -1.58458466, -0.92560277,\n",
       "       -0.08401197,  0.14494735,  0.3699442 ,  0.08877329, -0.80538844,\n",
       "        0.2841171 , -0.05639681, -0.51955048, -0.32182076,  1.18702261,\n",
       "        0.1571128 , -0.78987394, -0.50255102, -0.28722464,  0.71585896,\n",
       "       -0.35212027, -0.04299091, -0.17987502, -0.97737259,  0.76624943,\n",
       "       -0.59710916, -0.68138003, -1.09040931,  0.16820023, -0.44862523,\n",
       "       -0.3230973 , -0.46421441, -0.11796685, -1.4572802 , -0.26261629,\n",
       "        0.00653135,  0.84866921,  0.22320219,  0.26613259,  0.23985062,\n",
       "       -0.52120701, -0.2491301 ,  0.91894236,  1.28268416, -0.74874619,\n",
       "        0.39830134,  1.43651666, -2.01913941, -0.70271907,  0.50585061,\n",
       "       -0.00660984,  0.40171748, -0.96904282, -0.13461383, -0.21369805,\n",
       "       -0.44816632,  0.80361238, -1.16704949, -1.24528652,  0.05141893,\n",
       "        0.51557631,  0.09819278,  0.26086507,  1.38637445,  1.37473194,\n",
       "        0.75990126, -1.06268065, -1.21057744, -0.67096592, -0.26681874,\n",
       "       -0.97722182,  1.30460869,  0.93530938, -1.55733498, -0.93881936,\n",
       "        1.88698763,  0.79939902, -1.09307449, -0.61872353,  0.0356103 ,\n",
       "        0.43902106,  1.10932284, -0.51544598,  0.10500929, -1.06400835,\n",
       "        0.00783951, -0.81316934,  0.21254106, -1.0907732 ,  0.24781786,\n",
       "       -0.62736173, -0.06010081, -0.22665445,  0.36596235,  0.82349751,\n",
       "        0.17913571,  0.92534342,  0.78480247, -0.25984432,  2.97207608,\n",
       "       -0.27530632, -0.52569164,  0.35283022,  0.03895104, -0.26236526,\n",
       "       -0.2361251 ,  0.58008374, -0.65983893, -0.59747106, -1.45122002,\n",
       "       -1.08675353,  0.61950564, -0.35411396,  1.00199065, -1.21092745,\n",
       "       -1.80168694, -0.72530851, -0.73866218,  0.04893195, -1.95944159,\n",
       "       -0.87626958, -0.2352816 , -0.20909335, -0.48556945,  0.3845273 ,\n",
       "       -0.40780311,  0.35578299, -0.33821163,  0.23874395,  0.76409487,\n",
       "        1.54300401,  1.2463771 ,  0.80737927, -1.7615361 , -0.89765473,\n",
       "       -0.01323553,  0.19084962,  0.60472515,  1.21978732, -0.06427277,\n",
       "       -1.35602126,  1.25250502, -1.14404786,  1.87130485, -0.16321806,\n",
       "        0.19653469,  0.47775122, -0.80063358, -0.05880328,  0.19811914,\n",
       "        0.2881477 ,  0.35885808, -0.97456651,  0.28623474, -0.91033449,\n",
       "       -1.39312215, -1.28123825,  1.70174471, -0.02347697, -0.04949867,\n",
       "       -1.31692807, -0.22075351, -0.23409486,  0.34671259,  0.27842664,\n",
       "        0.37295672, -1.37611317,  0.67096627,  1.15472306, -0.97112072,\n",
       "       -0.8168621 , -1.2788495 ,  0.03179528,  0.27983833,  0.02415665,\n",
       "        0.02552335,  1.10137537,  0.51824351,  1.01359757,  0.40037683,\n",
       "       -0.63246813,  0.3304711 ,  0.16833316, -0.74086335, -0.34383026,\n",
       "        0.03815715, -0.1048303 ,  0.00583655,  1.2319338 , -0.13045611,\n",
       "        0.69896003,  2.11297124, -0.4085496 ,  0.79796708, -0.96437793,\n",
       "       -0.44194892,  0.04090635, -0.47915493, -0.15300346, -0.98383343,\n",
       "       -1.23834001, -0.13806645,  0.02585715,  0.42759516,  0.84026292,\n",
       "        0.84612127, -0.58352321, -0.8478331 ,  0.34975838, -1.25935598,\n",
       "       -1.23171608, -1.34851511,  0.70315729, -0.60051325, -0.49519209,\n",
       "        1.06939491, -0.88033478, -0.26480338, -1.72592965, -1.86287201,\n",
       "        1.02106791,  1.54172206, -0.74889502, -0.43025162, -1.56519052,\n",
       "       -0.49147693,  0.1694691 , -0.41715618, -0.77400914, -0.12684475,\n",
       "        0.48954974, -0.54109922,  0.16327028,  1.17274393,  1.33166991,\n",
       "       -0.06712579, -0.10210014,  0.42631074, -0.11058016, -0.28590215,\n",
       "        1.3330231 ,  0.38040312,  0.57378469,  0.08979831,  0.1227074 ,\n",
       "       -1.57579957, -1.7099931 ,  0.39471262,  0.15746047, -0.57231864,\n",
       "       -0.78327222,  1.12050051,  0.25663125,  0.32002665, -0.13492338,\n",
       "        1.33077861, -0.10621391, -0.49006874,  0.40694852, -0.48319331,\n",
       "       -0.28803478,  0.45884137,  0.55645136,  0.12032973,  1.61120621,\n",
       "        0.61245951, -1.72266062, -0.05244869, -0.30979469,  0.01780193,\n",
       "       -0.10641389,  0.14048775, -1.02383126,  0.5329161 , -0.37383169,\n",
       "        0.28061124,  0.59560829, -0.05359657,  0.05773456,  0.39440726,\n",
       "        0.27866003,  0.6258331 , -0.21394923,  0.24682272, -0.06957711,\n",
       "       -1.02366858,  1.44949255, -0.16385684, -0.88070703,  0.72220977,\n",
       "       -0.25054499,  1.09952904,  0.22589406,  0.05486019,  2.27068909,\n",
       "       -0.47233133,  1.15474577, -2.60802078, -0.57371151, -2.07823184,\n",
       "        0.7179656 , -0.40669046,  0.43589823,  0.64997147, -1.44370258,\n",
       "        0.2963354 , -0.18982173,  0.5187565 ,  1.57588263, -0.18286406,\n",
       "       -0.20374851,  0.6807545 ,  0.09936153,  1.1837235 , -0.79571762,\n",
       "       -0.01556286, -0.40697087,  0.46494122, -0.57441145,  0.54501932,\n",
       "        0.15956585, -1.06205189, -0.91492308, -0.72045325, -0.06243376,\n",
       "        0.67758261,  0.84579127,  0.20678174,  1.12996377, -0.2428434 ,\n",
       "       -0.28628432, -1.81559341,  0.47898784,  0.29953614, -0.86809339,\n",
       "        1.61443673,  0.33878747,  0.23725053, -0.59590747,  0.18926861,\n",
       "       -0.54126849, -0.00777806,  0.94042494, -0.96883508,  0.26872586,\n",
       "        0.0365501 , -0.99273082,  1.13429358,  0.58217662, -0.33803728,\n",
       "       -0.29421304,  1.45406241,  0.23349664, -0.05776513, -1.18581854,\n",
       "       -0.45806606, -1.06373142, -0.81874088,  0.52515293, -0.88581865,\n",
       "       -0.37873342,  0.57069284, -1.12045017, -0.4524096 , -0.73871221,\n",
       "       -0.20905035,  0.84589668, -1.4699766 ,  1.24208554,  0.80938958,\n",
       "        0.41140248,  0.23109526, -0.69050041,  0.75698905,  0.88166786,\n",
       "       -0.7570047 ,  0.68919963,  0.35273502,  0.18384273,  0.36393295,\n",
       "       -0.95395038,  0.98411003, -1.24867626,  0.94086047, -0.89345224,\n",
       "       -0.32164492, -0.73170748, -0.04685529, -0.48369452, -0.23237723,\n",
       "       -0.00689887, -0.15352418,  0.61515849, -0.05605296, -0.50232972,\n",
       "        0.20061895, -0.46932973, -0.35552788,  0.01779323,  0.19989842,\n",
       "        0.553182  ,  1.08124389,  0.13054959,  1.41574264, -0.69309618,\n",
       "        0.93420718,  1.14618254, -0.29981042,  1.01121241,  1.09458022,\n",
       "       -0.00459754,  0.72001093, -0.6936094 , -0.09174698,  0.83072876,\n",
       "       -0.48035413,  1.18901729, -0.28240035,  0.13792671,  0.95377574,\n",
       "       -0.93935412,  0.22321013, -0.37241917, -0.56533254,  1.23901381,\n",
       "        0.08093111, -0.68575227,  0.27755058,  0.01738135,  0.11465026,\n",
       "       -0.55599579,  0.02405735,  1.30924225,  0.40809639,  0.38807788,\n",
       "        0.1774514 ,  2.18559399,  1.30825196, -0.03253718, -0.10474254,\n",
       "        0.3575643 ,  0.86442566, -0.1929035 ,  0.11996504,  1.06151384,\n",
       "       -0.11304188, -0.46217249, -0.24260331, -1.37277468, -0.24936592,\n",
       "        2.4867668 ,  0.22740171, -0.28469778, -0.92622937, -1.65364986,\n",
       "        0.12466826,  0.04821536,  0.3509784 ,  0.00704767, -0.82956944,\n",
       "        0.07600238, -0.60594376, -0.05471798,  0.69590537, -0.0996847 ,\n",
       "       -0.63478847,  0.53488376,  0.16626825, -0.6611865 ,  0.03524801,\n",
       "       -0.62489566,  1.09230821,  0.28664037,  0.93683423, -0.89127427,\n",
       "       -1.19316333,  0.39749673,  0.51663608,  0.23340299,  0.51734258,\n",
       "        0.35001404, -1.30548619, -1.10292929,  1.08782764, -0.4805252 ,\n",
       "        0.51882822, -0.89954014,  0.28540666, -0.03751424, -1.14089174,\n",
       "        0.53829804,  0.86441052, -1.01157805,  0.25263192, -0.69643366,\n",
       "       -0.42556067,  1.50545248,  0.17515782, -0.50814783,  0.04915219,\n",
       "        0.50703393,  0.12588571, -0.38242911, -0.83480732, -0.8625219 ,\n",
       "        1.89467   ,  0.89834965, -0.46336201, -0.88879798,  0.36758123,\n",
       "       -0.64171697,  0.41275757,  0.78090018,  1.32423208,  0.5216269 ,\n",
       "       -0.64734501,  0.55009136,  2.00808605, -1.28219573, -1.00564309,\n",
       "        0.13179474, -1.36160827,  0.63236106, -0.68042564, -0.21621305,\n",
       "        1.19075082, -0.52510394,  0.57122614,  0.01714864, -0.03988732,\n",
       "       -1.48718508, -1.5197832 ,  0.65368991, -0.60429106,  0.42494838,\n",
       "       -0.55394922, -0.26300616, -0.63147374, -0.73110445, -0.02725824,\n",
       "       -0.45311435, -0.24510978, -0.89349202,  0.12295872, -0.1265175 ,\n",
       "        0.54193877, -0.03438631,  0.26307391,  0.3458305 , -0.89900965,\n",
       "       -0.91670197,  1.21669693, -0.23098202,  0.75659031, -0.33125015,\n",
       "       -1.31536694,  0.39898831,  0.51236254, -0.14137705,  0.03101791,\n",
       "        0.23102159, -0.45469726,  0.14874591, -0.10655509,  0.54301064,\n",
       "       -0.42360346,  0.41832826,  0.40801617,  0.18876057,  0.55931852,\n",
       "       -1.52799727, -0.09230262,  0.13786699,  0.16073624,  1.05715385,\n",
       "        0.35368959,  0.58491566, -1.07841567,  0.13193527,  0.0255289 ,\n",
       "       -0.2213814 ,  1.22880135,  1.20780535,  0.61621936,  0.10736387,\n",
       "        1.23954668, -0.23803059,  1.33162569,  1.68110992,  0.04935739,\n",
       "       -0.47148653, -0.51653104, -0.36525761, -0.72927738,  1.49942527,\n",
       "        1.16861761,  1.32261396, -0.23792627, -0.33485951, -0.17821792,\n",
       "       -1.42321834,  0.61937847,  0.54660772, -0.15628175,  0.88730726,\n",
       "       -0.58571761, -0.76542664,  0.36948315,  0.90407064,  0.53802219,\n",
       "       -0.7775722 , -0.29432185, -0.58102836, -0.53693427, -0.08276526,\n",
       "       -0.51642653,  0.15172157,  0.29605695,  1.29122599, -0.21775184,\n",
       "       -0.03454052, -0.89593648,  0.01017474, -1.18306788,  0.10782985,\n",
       "        0.27960155, -1.18451775,  0.13175705,  0.99807789, -0.09035439,\n",
       "       -0.83419856,  0.22745295,  0.621549  , -0.64809993, -1.86823878,\n",
       "        0.65867616, -0.99071857,  0.05252618,  0.48309129, -0.37270522,\n",
       "        0.97642755, -0.45558944,  0.72572118,  0.97420213, -0.26997288,\n",
       "        0.85660847, -0.25382105,  0.24891208,  0.04453911,  0.15644617,\n",
       "       -0.54309418,  1.20889586,  0.44659331,  1.99093374, -0.15543535,\n",
       "       -0.17601475,  0.28519712,  1.02521489,  1.16047531,  0.99445735,\n",
       "       -0.00432628,  0.65031478, -1.01023586, -0.7222838 , -0.10863005,\n",
       "        0.27775565,  0.28492881,  0.25702858,  0.26275622,  1.15316153,\n",
       "        0.8152918 , -0.14791634,  0.86807889, -0.95987324, -0.20517426,\n",
       "       -0.74305303, -0.53819232,  1.32766625,  0.80263073,  0.70462546,\n",
       "        0.58712492,  0.1054608 ,  0.50466208,  0.55069196,  0.90323575,\n",
       "        0.42148346,  1.34146466,  0.77520022, -0.72036577,  0.61169825,\n",
       "       -0.13079438, -1.22269752,  1.26297444, -0.54271702, -0.33125605,\n",
       "        0.74686163, -0.40485945, -1.08178459,  0.47931608, -0.36158608,\n",
       "        0.16387218,  0.86284888, -0.77525685,  0.62512391, -0.26416716,\n",
       "        0.56651664, -0.45381788, -0.61546363, -0.41082633, -0.24575124,\n",
       "        0.56409096,  0.94878615, -0.35337323, -0.36428297, -1.02742846,\n",
       "        0.03569527, -0.07030666,  0.6596028 ,  1.72138259, -1.69481059,\n",
       "       -0.44937149, -0.2070341 ,  1.31339132,  1.02486141, -0.09277739,\n",
       "       -0.00428409, -0.2157938 , -0.69226275,  0.55978223, -0.40527709,\n",
       "       -0.33942595, -1.81706005,  0.85307966, -1.18262591, -0.41256603,\n",
       "        1.01598346,  0.42317325, -0.76832726, -0.14895172,  0.41760237,\n",
       "       -0.11710071,  0.4320386 ,  0.51483249,  1.08792721,  0.25996297,\n",
       "       -0.78257046, -0.35735447, -0.16175245, -1.02825728,  0.10941576,\n",
       "       -0.4177499 , -0.88860068,  0.67121378,  0.9306375 ,  1.96079315,\n",
       "       -0.86359283, -0.17518553, -1.32925603,  0.04766842, -0.48015985,\n",
       "        0.42257999,  0.72197041, -0.20455337, -0.77532767,  0.74304931,\n",
       "       -0.05751201,  0.33985644, -0.14596314,  0.45012061,  0.80982793,\n",
       "        0.54736015, -0.36114541,  0.53145445,  0.83742403,  1.05187369,\n",
       "       -0.2274029 , -0.62111418, -0.57779938,  0.30564019,  1.92371083,\n",
       "       -0.50630404,  1.9654933 ,  0.22457073, -2.45721783, -0.36570124,\n",
       "        0.21222785, -0.95167598, -0.48791848, -0.82035541, -1.24568653,\n",
       "       -0.02369765, -0.48936766,  0.90385499,  0.32886191,  0.25779262,\n",
       "       -1.3319986 ,  1.1266745 , -0.31645731,  0.16374864, -0.47352912,\n",
       "        0.39161274, -1.0025773 ,  0.2189911 ,  0.49990518,  0.23269806,\n",
       "       -0.66246222,  0.80613   ,  0.78590186, -0.50631103,  1.41599901,\n",
       "       -0.06346677, -0.09287191,  0.4959672 , -0.28835035,  0.37021381,\n",
       "        1.51587175, -0.81392333, -0.39082208, -0.49885741, -1.68956785,\n",
       "        0.36307393, -0.11241102,  0.08110968,  0.90064537, -0.43950084,\n",
       "        0.27314207,  0.07583119, -0.4419859 ,  0.08345689, -0.47655979,\n",
       "       -0.71390679,  1.82013684, -0.90679197,  0.01799024, -1.60192058,\n",
       "        1.25735823, -0.12381734, -0.02328968,  0.40151542,  0.81247861,\n",
       "        0.27016623, -1.82525745, -0.40128983,  0.43493   ,  0.99422418,\n",
       "        0.58188068,  0.05261528,  1.0651029 , -0.68869197, -0.79473379,\n",
       "        0.3268165 , -0.55808683,  1.19857037,  0.64231876, -0.8054298 ,\n",
       "       -0.46464655, -1.10103678,  0.46309203,  0.6665993 ,  0.48674891,\n",
       "       -0.81860043, -0.04789066,  1.42609151,  0.0524623 , -0.09192615])"
      ]
     },
     "execution_count": 54,
     "metadata": {},
     "output_type": "execute_result"
    }
   ],
   "source": [
    "A = np.random.normal(0,0.8,size=1000)\n",
    "A"
   ]
  },
  {
   "cell_type": "markdown",
   "id": "ad26eec5-4bc6-4b72-ab3e-c729bca65c72",
   "metadata": {},
   "source": [
    "Here discuss the many properties of arrays (ndim, shape, dtype, etc.)"
   ]
  },
  {
   "cell_type": "code",
   "execution_count": 58,
   "id": "7f748886-fc25-48a1-bb7a-e829aef9114f",
   "metadata": {},
   "outputs": [
    {
     "data": {
      "image/png": "[encoded data removed]",
      "text/plain": [
       "<Figure size 432x288 with 1 Axes>"
      ]
     },
     "metadata": {
      "needs_background": "light"
     },
     "output_type": "display_data"
    }
   ],
   "source": [
    "plt.hist(A, bins=50)\n",
    "plt.grid()\n",
    "plt.show()"
   ]
  },
  {
   "cell_type": "code",
   "execution_count": 60,
   "id": "b0819924-8454-439d-8515-997e66b6ae00",
   "metadata": {},
   "outputs": [
    {
     "data": {
      "image/png": "[encoded data removed]",
      "text/plain": [
       "<Figure size 432x288 with 1 Axes>"
      ]
     },
     "metadata": {
      "needs_background": "light"
     },
     "output_type": "display_data"
    }
   ],
   "source": [
    "#OR\n",
    "B = np.random.exponential(2.3, size=1000)\n",
    "plt.hist(B, bins=50)\n",
    "plt.grid()\n",
    "plt.show()"
   ]
  },
  {
   "cell_type": "code",
   "execution_count": 62,
   "id": "671b3a41-17e5-44af-83d8-48a6bc1a539d",
   "metadata": {},
   "outputs": [
    {
     "data": {
      "text/plain": [
       "array([[ 0.16499126,  0.81933251,  1.59900639,  0.34710215],\n",
       "       [-0.76568292, -1.24055035,  0.15868454, -0.68228151],\n",
       "       [-0.26049919, -0.76998331, -0.19541641,  1.43881208],\n",
       "       [ 0.84187193, -0.27203095,  0.17855215, -0.35481408],\n",
       "       [ 1.4590213 ,  0.32852125,  1.12102412,  2.74855228],\n",
       "       [ 1.21469435, -0.80642788,  1.78958013,  0.02582162],\n",
       "       [ 0.45515422, -0.63630052,  0.61667997,  0.23389349],\n",
       "       [ 0.87739039,  1.35733934,  0.53465198, -0.28859601]])"
      ]
     },
     "execution_count": 62,
     "metadata": {},
     "output_type": "execute_result"
    }
   ],
   "source": [
    "A = np.random.normal(0, 1, size=(8,4))\n",
    "A"
   ]
  },
  {
   "cell_type": "code",
   "execution_count": 64,
   "id": "9402729d-2bdf-40ea-b7e0-1474a16529a6",
   "metadata": {},
   "outputs": [
    {
     "data": {
      "text/plain": [
       "array([[-0.5406247 , -2.25001111, -0.64529324, -2.94938215, -0.36026115,\n",
       "        -0.68752427, -1.83424079, -0.10793591],\n",
       "       [-2.43554604, -0.88323455, -2.76279608, -3.00566421, -0.73484478,\n",
       "        -0.00468011, -1.58322423, -2.4989195 ],\n",
       "       [-1.18759596,  0.43103614, -1.53661549,  0.97654969, -2.0252545 ,\n",
       "        -1.66389674, -0.12956647, -0.88275199],\n",
       "       [-1.81322856, -1.82377624, -1.60075331, -0.85933731, -1.2604962 ,\n",
       "        -1.36111648, -0.55756129, -3.20504572]])"
      ]
     },
     "execution_count": 64,
     "metadata": {},
     "output_type": "execute_result"
    }
   ],
   "source": [
    "B = np.random.normal(-1, 1, size=(4,8))\n",
    "B"
   ]
  },
  {
   "cell_type": "code",
   "execution_count": 65,
   "id": "79ed8c4a-ea00-4189-88ea-1ddde5ee0fc8",
   "metadata": {},
   "outputs": [
    {
     "data": {
      "text/plain": [
       "array([[ -4.61306945,  -1.03870206,  -5.38279929,  -1.6860293 ,\n",
       "         -4.33743797,  -3.25029803,  -2.00052911,  -4.5892588 ],\n",
       "       [  4.48404377,   4.13121958,   4.7698049 ,   6.72824259,\n",
       "          1.72609443,   1.19686141,   3.72836976,   5.22934447],\n",
       "       [ -0.36065731,  -1.44210088,   0.29250194,   1.65536421,\n",
       "         -0.75818323,  -1.45053498,   0.91996798,  -2.48671072],\n",
       "       [  0.63871837,  -0.92989014,   0.50191561,  -1.18609832,\n",
       "         -0.01776497,  -0.39168329,  -0.93881362,   1.56849334],\n",
       "       [ -7.90398879,  -8.10251791,  -7.97147099,  -6.5578337 ,\n",
       "         -6.50193967,  -6.61101826,  -4.87405268, -10.77725095],\n",
       "       [ -0.86472018,  -1.29652998,  -1.34706887,   0.56667799,\n",
       "         -3.50191113,  -3.84418045,  -1.1975525 ,   0.22157431],\n",
       "       [  0.14720259,  -0.62285748,   0.14225486,   0.9713072 ,\n",
       "         -1.24014801,  -1.6543997 ,  -0.03776704,   0.24692148],\n",
       "       [ -3.89186137,  -2.41619826,  -4.67580939,  -5.89735029,\n",
       "         -2.03255555,  -1.10637257,  -3.66668078,  -3.03358538]])"
      ]
     },
     "execution_count": 65,
     "metadata": {},
     "output_type": "execute_result"
    }
   ],
   "source": [
    "A@B"
   ]
  },
  {
   "cell_type": "code",
   "execution_count": 66,
   "id": "5dd65617-b155-4ce2-a5ed-4ac37f2c60c9",
   "metadata": {},
   "outputs": [
    {
     "data": {
      "text/plain": [
       "array([[-2.97163186,  5.10419694, -4.44511088,  0.05969889],\n",
       "       [-5.5272226 , -0.57699785, -7.17593052, -4.82046882],\n",
       "       [-5.11306936, -1.02951867, -7.15583165, -8.64872804],\n",
       "       [-5.76747355, -1.0688468 , -8.93568677, -4.08845743]])"
      ]
     },
     "execution_count": 66,
     "metadata": {},
     "output_type": "execute_result"
    }
   ],
   "source": [
    "B@A"
   ]
  },
  {
   "cell_type": "code",
   "execution_count": 67,
   "id": "631aaef3-0c07-421a-b7ff-f36c45d6e6d4",
   "metadata": {},
   "outputs": [],
   "source": [
    "C = np.random.normal(-3, 1, size=(8,4))"
   ]
  },
  {
   "cell_type": "code",
   "execution_count": 71,
   "id": "44628ae9-77da-4e21-bd6c-c3d04461195f",
   "metadata": {},
   "outputs": [
    {
     "data": {
      "text/plain": [
       "array([[-0.62812688, -2.67222577, -2.72265917, -0.80928722],\n",
       "       [ 1.68425692,  2.03607585, -0.53873592,  1.54555944],\n",
       "       [ 0.36043928,  2.81245356,  0.32896222, -6.57618125],\n",
       "       [-2.26867068,  1.27115095, -0.35319825,  1.42194792],\n",
       "       [-2.46840351, -1.42110105, -2.62551544, -8.20984278],\n",
       "       [-3.52863079,  2.23839894, -4.56476017, -0.04994525],\n",
       "       [-1.47597727,  1.38564046, -1.82926565, -1.1522568 ],\n",
       "       [-1.58792995, -5.66275363, -1.60889213,  0.9578172 ]])"
      ]
     },
     "execution_count": 71,
     "metadata": {},
     "output_type": "execute_result"
    }
   ],
   "source": [
    "A * C"
   ]
  },
  {
   "cell_type": "markdown",
   "id": "ea20350d-bf76-4f04-b194-968fce8cb71a",
   "metadata": {},
   "source": [
    "More matplotlib here, should I talk about linalg at all?"
   ]
  },
  {
   "cell_type": "code",
   "execution_count": null,
   "id": "5c414ef0-25b7-45a5-8fd3-be00b4be5d1a",
   "metadata": {},
   "outputs": [],
   "source": []
  }
 ],
 "metadata": {
  "kernelspec": {
   "display_name": "Python 3.8",
   "language": "python",
   "name": "python38"
  },
  "language_info": {
   "codemirror_mode": {
    "name": "ipython",
    "version": 3
   },
   "file_extension": ".py",
   "mimetype": "text/x-python",
   "name": "python",
   "nbconvert_exporter": "python",
   "pygments_lexer": "ipython3",
   "version": "3.8.5"
  }
 },
 "nbformat": 4,
 "nbformat_minor": 5
}
